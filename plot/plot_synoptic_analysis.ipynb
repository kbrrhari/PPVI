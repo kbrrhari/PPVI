{
 "cells": [
  {
   "cell_type": "code",
   "execution_count": 61,
   "id": "bb72d787",
   "metadata": {},
   "outputs": [],
   "source": [
    "%matplotlib inline"
   ]
  },
  {
   "cell_type": "code",
   "execution_count": 62,
   "id": "d942e440",
   "metadata": {},
   "outputs": [],
   "source": [
    "import matplotlib.pyplot as plt\n",
    "import matplotlib.path as mpath\n",
    "import xarray as xr\n",
    "import numpy as np\n",
    "import matplotlib.dates as mdates\n",
    "import datetime as dt\n",
    "import time\n",
    "import sys\n",
    "import glob\n",
    "import cartopy.crs as ccrs\n",
    "import cartopy.feature as cfeature\n",
    "import math\n",
    "import imageio\n",
    "import warnings\n",
    "import os\n",
    "warnings.filterwarnings('ignore')"
   ]
  },
  {
   "cell_type": "markdown",
   "id": "5c9d3a8a",
   "metadata": {},
   "source": [
    "## Functions"
   ]
  },
  {
   "cell_type": "code",
   "execution_count": 63,
   "id": "2e0af13b",
   "metadata": {},
   "outputs": [],
   "source": [
    "def setup_m(ax):\n",
    "    \n",
    "    ax = plt.axes(projection=ccrs.PlateCarree())\n",
    "    ax.set_global()\n",
    "    ax.add_feature(cfeature.COASTLINE)\n",
    "    ax.add_feature(cfeature.OCEAN)\n",
    "    ax.add_feature(cfeature.LAND)\n",
    "    t1 = ax.gridlines(draw_labels=True,alpha=0.4)\n",
    "    t1.xlabels_top = False\n",
    "    t1.ylabels_right = False\n",
    "\n",
    "    return ax\n",
    "\n",
    "def moving_average(x, w):\n",
    "    return np.convolve(x, np.ones(w)/w, 'valid')\n"
   ]
  },
  {
   "cell_type": "code",
   "execution_count": 64,
   "id": "ab0a375b",
   "metadata": {},
   "outputs": [],
   "source": [
    "def vert_avg_winds(u,v):\n",
    "    # take in wind fields from 300mb to 850mb and average them\n",
    "    # return u,v vertically averaged (300-850mb) wind fields\n",
    "    \n",
    "    # assign empty arrays \n",
    "    u_bar = np.zeros(np.shape(u[0,0,:,:]))\n",
    "    v_bar = np.zeros(np.shape(v[0,0,:,:]))\n",
    "    \n",
    "    # assign empty 3d wind arrays \n",
    "    lev_bot = int(np.where(u['level']==850)[0])\n",
    "    lev_top = int(np.where(u['level']==300)[0])\n",
    "    diff = abs(lev_top-lev_bot)\n",
    "    wind3du = np.zeros([len(u[0,0,:,0]),len(u[0,0,0,:]),diff])\n",
    "    wind3dv = np.zeros([len(u[0,0,:,0]),len(u[0,0,0,:]),diff])\n",
    "    \n",
    "    # assign wind data to 3d array to easily average\n",
    "    ii=0\n",
    "    for i in range(lev_top,lev_bot):\n",
    "        wind3du[:,:,ii] = u[0,i,:,:]\n",
    "        wind3dv[:,:,ii] = v[0,i,:,:]\n",
    "        ii=ii+1\n",
    "        \n",
    "    # average over 3rd dim\n",
    "    u_bar[:,:] = np.mean(wind3du,2)\n",
    "    v_bar[:,:] = np.mean(wind3dv,2)\n",
    "    \n",
    "    return u_bar,v_bar"
   ]
  },
  {
   "cell_type": "code",
   "execution_count": 67,
   "id": "2d58f7d2",
   "metadata": {},
   "outputs": [],
   "source": [
    "# plot gif of steering flow\n",
    "images = []\n",
    "os.chdir('/home/Tyler.Barbero/tmp/')\n",
    "filenames = sorted(os.listdir('/home/Tyler.Barbero/tmp/'))\n",
    "for filename in filenames:\n",
    "    images.append(imageio.imread(filename))\n",
    "    imageio.mimsave(\"/home/Tyler.Barbero/tmp/synoptic_movie.gif\", images,duration=0.5)"
   ]
  },
  {
   "cell_type": "code",
   "execution_count": 34,
   "id": "8da92e28",
   "metadata": {},
   "outputs": [],
   "source": [
    "# # plot gif of TC track\n",
    "# images = []\n",
    "# os.chdir('/archive/twb/track_plots/zoom/')\n",
    "# filenames = sorted(os.listdir('/archive/twb/track_plots/zoom/'))\n",
    "# for filename in filenames:\n",
    "#     images.append(imageio.imread(filename))\n",
    "#     imageio.mimsave(\"/home/Tyler.Barbero/tmp/TCtracks_0.5sec.gif\", images,duration=0.5)"
   ]
  },
  {
   "cell_type": "markdown",
   "id": "4850de85",
   "metadata": {},
   "source": [
    "# ################################IFS########################################################################"
   ]
  },
  {
   "cell_type": "markdown",
   "id": "b41d71b0",
   "metadata": {},
   "source": [
    "## Main function (IFS analysis)"
   ]
  },
  {
   "cell_type": "code",
   "execution_count": 1,
   "id": "68d9fda1",
   "metadata": {
    "scrolled": false
   },
   "outputs": [
    {
     "ename": "NameError",
     "evalue": "name 'plt' is not defined",
     "output_type": "error",
     "traceback": [
      "\u001b[0;31m---------------------------------------------------------------------------\u001b[0m",
      "\u001b[0;31mNameError\u001b[0m                                 Traceback (most recent call last)",
      "\u001b[0;32m<ipython-input-1-cec004f943e5>\u001b[0m in \u001b[0;36m<module>\u001b[0;34m\u001b[0m\n\u001b[1;32m     18\u001b[0m \u001b[0;32mfor\u001b[0m \u001b[0mini_time\u001b[0m \u001b[0;32min\u001b[0m \u001b[0mini_times\u001b[0m\u001b[0;34m:\u001b[0m\u001b[0;34m\u001b[0m\u001b[0;34m\u001b[0m\u001b[0m\n\u001b[1;32m     19\u001b[0m     \u001b[0;32mfor\u001b[0m \u001b[0mini_hour\u001b[0m \u001b[0;32min\u001b[0m \u001b[0mini_hours\u001b[0m\u001b[0;34m:\u001b[0m\u001b[0;34m\u001b[0m\u001b[0;34m\u001b[0m\u001b[0m\n\u001b[0;32m---> 20\u001b[0;31m         \u001b[0mfig\u001b[0m \u001b[0;34m=\u001b[0m \u001b[0mplt\u001b[0m\u001b[0;34m.\u001b[0m\u001b[0msubplots\u001b[0m\u001b[0;34m(\u001b[0m\u001b[0;36m1\u001b[0m\u001b[0;34m,\u001b[0m\u001b[0;36m2\u001b[0m\u001b[0;34m)\u001b[0m\u001b[0;34m\u001b[0m\u001b[0;34m\u001b[0m\u001b[0m\n\u001b[0m\u001b[1;32m     21\u001b[0m         \u001b[0mfig\u001b[0m\u001b[0;34m.\u001b[0m\u001b[0mpatch\u001b[0m\u001b[0;34m.\u001b[0m\u001b[0mset_facecolor\u001b[0m\u001b[0;34m(\u001b[0m\u001b[0;34m'white'\u001b[0m\u001b[0;34m)\u001b[0m\u001b[0;34m\u001b[0m\u001b[0;34m\u001b[0m\u001b[0m\n\u001b[1;32m     22\u001b[0m         \u001b[0max\u001b[0m \u001b[0;34m=\u001b[0m \u001b[0mfig\u001b[0m\u001b[0;34m.\u001b[0m\u001b[0madd_axes\u001b[0m\u001b[0;34m(\u001b[0m\u001b[0;34m[\u001b[0m\u001b[0;36m0.1\u001b[0m\u001b[0;34m,\u001b[0m\u001b[0;36m0.1\u001b[0m\u001b[0;34m,\u001b[0m\u001b[0;36m0.8\u001b[0m\u001b[0;34m,\u001b[0m\u001b[0;36m0.8\u001b[0m\u001b[0;34m]\u001b[0m\u001b[0;34m)\u001b[0m\u001b[0;34m\u001b[0m\u001b[0;34m\u001b[0m\u001b[0m\n",
      "\u001b[0;31mNameError\u001b[0m: name 'plt' is not defined"
     ]
    }
   ],
   "source": [
    "root_dir = '/archive/twb/IFS/1_AN0_'\n",
    "out_dir = '/home/Tyler.Barbero/tmp/'\n",
    "g = 9.80665\n",
    "\n",
    "model= 'IFS'\n",
    "# ini_times = ['20170917','20170918','20170919','20170920','20170921','20170922']\n",
    "# ini_times = ['20170914','20170915','20170916','20170917','20170918','20170919','20170920','20170921','20170922','20170923']\n",
    "ini_times = ['20170914','20170915','20170916','20170917','20170918','20170919','20170920','20170921','20170922','20170923','20170924','20170925','20170926','20170927','20170928','20170929','20170930']\n",
    "ini_hours = ['0','600','1200','1800']\n",
    "\n",
    "plev = 500\n",
    "wlev = 850\n",
    "wnd = \"850-300mb avg wind\"\n",
    "\n",
    "########################################################################\n",
    "########################################################################\n",
    "\n",
    "for ini_time in ini_times:\n",
    "    for ini_hour in ini_hours:\n",
    "        fig = plt.figure(figsize=(11,8))\n",
    "        fig.patch.set_facecolor('white')\n",
    "        ax = fig.add_axes([0.1,0.1,0.8,0.8])\n",
    "        m = setup_m(ax)\n",
    "        \n",
    "        fz = root_dir + ini_time + '_' + ini_hour + \".z.nc\" #geopotenial height \n",
    "        fu = root_dir + ini_time + '_' + ini_hour + \".u.nc\" \n",
    "        fv = root_dir + ini_time + '_' + ini_hour + \".v.nc\"\n",
    "        dz = xr.open_dataset(fz)\n",
    "        du = xr.open_dataset(fu)\n",
    "        dv = xr.open_dataset(fv)\n",
    "        \n",
    "        \n",
    "        # Extract Data \n",
    "        h = dz['z']\n",
    "        lat = du['latitude']\n",
    "        lon = du['longitude']\n",
    "        u = du['u']\n",
    "        v = dv['v']\n",
    "        \n",
    "        # get vertically averaged winds \n",
    "        u_bar,v_bar = vert_avg_winds(u,v)\n",
    "\n",
    "\n",
    "        # plot steering flow (sf)\n",
    "        sf = plt.contour(lon,lat,h[0,int(np.where(dz['level']==plev)[0]),:,:]/g,linewidths=1,levels=np.arange(5800,6100,20), colors='black',transform=ccrs.PlateCarree())\n",
    "        ax.clabel(sf, fmt='%g',inline=False)\n",
    "        sf = plt.contour(lon,lat,h[0,int(np.where(dz['level']==plev)[0]),:,:]/g,linewidths=1,levels=np.arange(5500,5800,100), colors='black',transform=ccrs.PlateCarree())\n",
    "        ax.clabel(sf, fmt='%g',inline=False)\n",
    "        plt.contour(lon,lat,h[0,int(np.where(dz['level']==plev)[0]),:,:]/g,linewidths=2,levels=[5900],colors='black',transform=ccrs.PlateCarree())\n",
    "        \n",
    "        # shade the main steering flow grey\n",
    "        plt.contourf(lon,lat,h[0,int(np.where(dz['level']==plev)[0]),:,:]/g,levels=[5900,6000],colors='grey',alpha=0.4,transform=ccrs.PlateCarree())\n",
    "    \n",
    "        # plot wind vectors at 850 mb\n",
    "#         plt.barbs(lon[::2],lat[::2],u[0,int(np.where(dz['level']==wlev)[0]),::2,::2],v[0,int(np.where(dz['level']==wlev)[0]),::2,::2]\n",
    "#                   ,transform=ccrs.PlateCarree(),length=5)\n",
    "        # plot vertically averaged winds\n",
    "        plt.barbs(lon[::2],lat[::2],u_bar[::2,::2],v_bar[::2,::2]\n",
    "                  ,transform=ccrs.PlateCarree(),length=5)\n",
    "        \n",
    "        plt.title(\"500mb Geopotential Height, Model: \"+model+\" | Init_time: \"+ini_time+\"_\"+ini_hour+\"Z\",size=12)\n",
    "        plt.rcParams[\"font.weight\"] = \"bold\"\n",
    "        plt.rcParams[\"axes.labelweight\"] = \"normal\"\n",
    "        m.set_extent([-101,0,-1,60])\n",
    "        dz.close();du.close();dv.close()\n",
    "        if ini_hour=='600':\n",
    "            ini_hour = '0600'\n",
    "            fname = 'synoptic_analysis_'+ini_time+\"_\"+ini_hour+\".png\"\n",
    "        elif ini_hour=='0':\n",
    "            ini_hour = '0000'\n",
    "            fname = 'synoptic_analysis_'+ini_time+\"_\"+ini_hour+\".png\"\n",
    "        else:\n",
    "            fname = 'synoptic_analysis_'+ini_time+\"_\"+ini_hour+\".png\"\n",
    "        plt.savefig(out_dir+fname,orientation='landscape',bbox_inches='tight')"
   ]
  },
  {
   "cell_type": "markdown",
   "id": "8084e1de",
   "metadata": {},
   "source": [
    "# ################################GFS########################################################################"
   ]
  },
  {
   "cell_type": "markdown",
   "id": "79f8b75f",
   "metadata": {
    "scrolled": true
   },
   "source": [
    "## Main Function (GFS Analysis)"
   ]
  },
  {
   "cell_type": "code",
   "execution_count": null,
   "id": "aa52ca9b",
   "metadata": {},
   "outputs": [],
   "source": [
    "# initalize arrray\n",
    "mean_u = np.zeros(np.shape(u[0,0,:,:]))\n",
    "mean_v = np.zeros(np.shape(u[0,0,:,:]))\n",
    "\n",
    "# do running mean for each u,v over longitudes\n",
    "for i in range(0,len(u[0,0,:,0])):\n",
    "    tmpu = moving_average(u[0,int(np.where(u['lev']==500)[0]),i,:],4)\n",
    "    tmpv = moving_average(v[0,int(np.where(u['lev']==500)[0]),i,:],4)\n",
    "    if np.shape(tmpu)!=np.shape(mean_u[0,:]):\n",
    "        diff = abs(int(np.shape(tmpu)[0])-int(np.shape(mean_u[0,:])[0]))\n",
    "#         tmpu = np.pad(tmpu,diff,'constant')\n",
    "#         tmpv = np.pad(tmpv,diff,'constant')\n",
    "        tmpu = np.concatenate([tmpu, np.zeros(diff)])\n",
    "        tmpv = np.concatenate([tmpv, np.zeros(diff)])\n",
    "    mean_u[i,:] = tmpu\n",
    "    mean_v[i,:] = tmpv"
   ]
  },
  {
   "cell_type": "code",
   "execution_count": null,
   "id": "a49164bb",
   "metadata": {
    "scrolled": false
   },
   "outputs": [],
   "source": [
    "# Input variables\n",
    "root_dir = '/archive/twb/GFS/analysis/'\n",
    "out_dir = '/home/Tyler.Barbero/tmp/'\n",
    "g = 9.80665\n",
    "\n",
    "model= 'GFS'\n",
    "\n",
    "# ini_times = ['20170917','20170918','20170919','20170920','20170921','20170922']\n",
    "ini_times = ['20170916','20170917']\n",
    "ini_hours = ['00','12']\n",
    "\n",
    "########################################################################\n",
    "########################################################################\n",
    "\n",
    "for ini_time in ini_times:\n",
    "    for ini_hour in ini_hours:\n",
    "        fig = plt.figure(figsize=(11,8))\n",
    "        fig.patch.set_facecolor('white')\n",
    "        ax = fig.add_axes([0.1,0.1,0.8,0.8])\n",
    "        m = setup_m(ax)\n",
    "        \n",
    "        # we want high resolution T1534 data for geopotential height\n",
    "        fz = root_dir + ini_time + '_' + ini_hour + \"Z00_T1534_h.nc\"\n",
    "        fu = root_dir + ini_time + '_' + ini_hour + \"Z00_T1534_u.nc\" \n",
    "        fv = root_dir + ini_time + '_' + ini_hour + \"Z00_T1534_v.nc\"\n",
    "        dz = xr.open_dataset(fz)\n",
    "        du = xr.open_dataset(fu)\n",
    "        dv = xr.open_dataset(fv)\n",
    "        \n",
    "        \n",
    "        # Extract Data \n",
    "        h = dz['hgt']\n",
    "        lat = du['lat']\n",
    "        lon = du['lon']\n",
    "        u = du['uwind']\n",
    "        v = dv['vwind']\n",
    "        \n",
    "\n",
    "        # plot all steering flow (sf) \n",
    "        sf = plt.contour(lon,lat,h[0,int(np.where(dz['lev']==500)[0]),:,:],linewidths=1,levels=np.arange(5500,5800,100), colors='black',transform=ccrs.PlateCarree())\n",
    "        ax.clabel(sf, fmt='%g',inline_spacing=1)\n",
    "        sf = plt.contour(lon,lat,h[0,int(np.where(dz['lev']==500)[0]),:,:],linewidths=2,levels=np.arange(5800,5950,20), colors='black',transform=ccrs.PlateCarree())\n",
    "        ax.clabel(sf, fmt='%g',inline_spacing=1)\n",
    "\n",
    "        # shade the main steering flow grey\n",
    "        plt.contourf(lon,lat,h[0,int(np.where(dz['lev']==500)[0]),:,:],levels=[5900,6000],colors='grey',alpha=0.4,transform=ccrs.PlateCarree())\n",
    "#         plt.contourf(lon,lat,h[0,int(np.where(dz['lev']==500)[0]),:,:],colors='grey',alpha=0.4,transform=ccrs.PlateCarree())\n",
    "    \n",
    "        # plot wind vectors at 850 mb\n",
    "#         plt.barbs(lon[::20],lat[::20],u[0,int(np.where(dz['lev']==850)[0]),::20,::20],v[0,int(np.where(dz['lev']==850)[0]),::20,::20]\n",
    "#                   ,transform=ccrs.PlateCarree(),length=5)\n",
    "        plt.barbs(lon[::24],lat[::24],mean_u[::24,::24],mean_v[::24,::24],transform=ccrs.PlateCarree(),length=5)\n",
    "\n",
    "        \n",
    "        plt.title(\"500mb Geopotential Height Steering Flow, 850mb wind,    model: \"+model+\"     Ini_time: \"+ini_time+\"_\"+ini_hour+\"Z\",size=15)\n",
    "        m.set_extent([-101,1,9,61])\n",
    "        dz.close();du.close();dv.close()\n",
    "#         fname = 'synoptic_analysis_'+ini_time+\"_\"+ini_hour+\".png\"\n",
    "#         plt.savefig(out_dir+fname,orientation='landscape',bbox_inches='tight')"
   ]
  },
  {
   "cell_type": "code",
   "execution_count": null,
   "id": "6fed50c3",
   "metadata": {},
   "outputs": [],
   "source": []
  },
  {
   "cell_type": "code",
   "execution_count": null,
   "id": "b9c2f0d8",
   "metadata": {},
   "outputs": [],
   "source": []
  },
  {
   "cell_type": "code",
   "execution_count": null,
   "id": "d88eae32",
   "metadata": {},
   "outputs": [],
   "source": []
  },
  {
   "cell_type": "code",
   "execution_count": null,
   "id": "3ea936b1",
   "metadata": {},
   "outputs": [],
   "source": []
  },
  {
   "cell_type": "code",
   "execution_count": null,
   "id": "bf118460",
   "metadata": {},
   "outputs": [],
   "source": []
  },
  {
   "cell_type": "code",
   "execution_count": null,
   "id": "0a3770ae",
   "metadata": {},
   "outputs": [],
   "source": []
  },
  {
   "cell_type": "code",
   "execution_count": null,
   "id": "a6c5a525",
   "metadata": {},
   "outputs": [],
   "source": []
  },
  {
   "cell_type": "code",
   "execution_count": null,
   "id": "0187b605",
   "metadata": {
    "scrolled": true
   },
   "outputs": [],
   "source": [
    "a = moving_average(u[0,int(np.where(u['lev']==500)[0]),52,:],4)\n",
    "b = u[0,int(np.where(u['lev']==500)[0]),0,:]\n",
    "fig = plt.figure(figsize=(11,8))\n",
    "plt.plot(np.arange(0,len(a)),a,label='running mean')\n",
    "plt.plot(np.arange(0,3072),b,label='orig')\n",
    "plt.legend()\n",
    "\n",
    "fig = plt.figure(figsize=(11,8))\n",
    "a = np.random.randint(1,100,100)\n",
    "b = moving_average(a,5)\n",
    "plt.plot(np.arange(0,len(a)),a,label='a - orig data')\n",
    "plt.plot(np.arange(0,len(b)),b,label='b - running mean')\n",
    "plt.legend()\n"
   ]
  },
  {
   "cell_type": "code",
   "execution_count": null,
   "id": "1a55a0e1",
   "metadata": {},
   "outputs": [],
   "source": []
  }
 ],
 "metadata": {
  "kernelspec": {
   "display_name": "tropical",
   "language": "python",
   "name": "dev"
  },
  "language_info": {
   "codemirror_mode": {
    "name": "ipython",
    "version": 3
   },
   "file_extension": ".py",
   "mimetype": "text/x-python",
   "name": "python",
   "nbconvert_exporter": "python",
   "pygments_lexer": "ipython3",
   "version": "3.9.4"
  }
 },
 "nbformat": 4,
 "nbformat_minor": 5
}
