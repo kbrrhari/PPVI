{
 "cells": [
  {
   "cell_type": "markdown",
   "id": "77d4d3b9",
   "metadata": {},
   "source": []
  },
  {
   "cell_type": "markdown",
   "id": "1a9e01e8",
   "metadata": {},
   "source": [
    "1) Ertel Potential Vorticity\n",
    "\n",
    "$\\Large q = \\frac{g\\kappa\\pi}{p}[(f+\\nabla^2\\Phi)\\frac{\\partial^2\\Phi}{\\partial\\pi^2}-\\frac{1}{a^2cos^2\\phi}\\frac{\\partial^2\\Phi}{\\partial\\lambda\\partial\\pi}\\frac{\\partial^2\\Phi}{\\partial\\lambda\\partial\\pi}-\\frac{1}{a^2}\\frac{\\partial^2\\Psi}{\\partial\\phi\\partial\\pi}\\frac{\\partial^2\\Phi}{\\partial\\phi\\partial\\pi}]$<br>\n"
   ]
  },
  {
   "cell_type": "markdown",
   "id": "bce6046c",
   "metadata": {},
   "source": [
    "2) Charney's nonlinear balanced equation\n",
    "\n",
    "$\\Large\\nabla^2 \\Phi = \\nabla \\cdot ( f \\nabla \\Psi ) + \\frac{2}{a^4cos^2\\phi} \\frac{\\partial(\\partial\\Phi/\\partial\\lambda,\\partial\\Phi/\\partial\\phi)}{\\partial(\\lambda,\\phi)}$"
   ]
  },
  {
   "cell_type": "markdown",
   "id": "0a0b5699",
   "metadata": {},
   "source": [
    "3) Nondivergent wind\n",
    "\n",
    "$\\Large V = \\hat{k} \\times \\nabla\\Psi$"
   ]
  },
  {
   "cell_type": "markdown",
   "id": "34eccf7a",
   "metadata": {},
   "source": [
    "4) Hydrostatic Balance\n",
    "\n",
    "$\\Large\\theta = -\\frac{\\partial\\phi}{\\partial\\pi}$"
   ]
  },
  {
   "cell_type": "markdown",
   "id": "fbb0d062",
   "metadata": {},
   "source": [
    "5) Relative vorticity and streamfunction relation (Elliptical 2nd order PDE)\n",
    "\n",
    "$\\Large\\zeta = \\frac{\\partial^2\\Psi}{\\partial x^2} + \\frac{\\partial ^2\\Psi}{\\partial y^2}$"
   ]
  },
  {
   "cell_type": "markdown",
   "id": "1b7b5e41",
   "metadata": {},
   "source": [
    "3) Boundary conditions<br>\n",
    "Lateral boundadry of $\\theta$ and $\\psi$ and $\\theta$ on the upper and lower boundaries"
   ]
  },
  {
   "cell_type": "markdown",
   "id": "b44c8b7d",
   "metadata": {},
   "source": [
    "$\\Large \\psi' =  \\psi - \\overline{\\psi}$   $\\hspace{7mm}$ $\\Large\\phi' =  \\phi - \\hat{\\phi}$  $\\hspace{7mm}$ $\\Large q' = q - \\hat{q}  $\n",
    "<br>\n",
    "\n",
    "$x'$ denotes perturbation fields<br>\n",
    "$x$ denotes total fields<br>\n",
    "$\\hat{x}$ denotes mean fields"
   ]
  },
  {
   "cell_type": "markdown",
   "id": "19a48820",
   "metadata": {},
   "source": [
    "Global $h,t,u, v$ "
   ]
  },
  {
   "cell_type": "markdown",
   "id": "ebcb482e",
   "metadata": {},
   "source": [
    "\n",
    "\n",
    "$q$: potential vorticity<br>\n",
    "$\\Phi$: geopotential height<br>\n",
    "$\\Psi$: streamfunction<br>\n",
    "$f$: coriolis parameter<br>\n",
    "$a$: Earth's radius<br>\n",
    "$\\kappa$:$\\frac{R_d}{C_p}$<br>\n",
    "$\\pi$: $C_p(p/p_o)^\\kappa$ - vertical coordinate<br>\n",
    "$\\lambda$: latitude<br>\n",
    "$\\phi$: longitude"
   ]
  },
  {
   "cell_type": "markdown",
   "id": "12b2fca2",
   "metadata": {},
   "source": [
    "$\\LARGE AT(q_{sys}') = \\frac{\\textbf{V}_{SDLM}(q'_{sys}) \\cdot \\textbf{V}_{SDLM}(q')}{|\\textbf{V}_{SDLM}(q')|^2}$"
   ]
  },
  {
   "cell_type": "code",
   "execution_count": null,
   "id": "3fbd41bb",
   "metadata": {},
   "outputs": [],
   "source": []
  }
 ],
 "metadata": {
  "kernelspec": {
   "display_name": "tropical",
   "language": "python",
   "name": "dev"
  },
  "language_info": {
   "codemirror_mode": {
    "name": "ipython",
    "version": 3
   },
   "file_extension": ".py",
   "mimetype": "text/x-python",
   "name": "python",
   "nbconvert_exporter": "python",
   "pygments_lexer": "ipython3",
   "version": "3.9.4"
  }
 },
 "nbformat": 4,
 "nbformat_minor": 5
}
